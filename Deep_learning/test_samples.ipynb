{
 "cells": [
  {
   "cell_type": "code",
   "execution_count": 65,
   "id": "6f503559",
   "metadata": {
    "scrolled": true
   },
   "outputs": [
    {
     "data": {
      "text/plain": [
       "MVCNN(\n",
       "  (net_1): Sequential(\n",
       "    (0): Conv2d(3, 64, kernel_size=(3, 3), stride=(1, 1), padding=(1, 1))\n",
       "    (1): ReLU(inplace=True)\n",
       "    (2): MaxPool2d(kernel_size=2, stride=2, padding=0, dilation=1, ceil_mode=False)\n",
       "    (3): Conv2d(64, 128, kernel_size=(3, 3), stride=(1, 1), padding=(1, 1))\n",
       "    (4): ReLU(inplace=True)\n",
       "    (5): MaxPool2d(kernel_size=2, stride=2, padding=0, dilation=1, ceil_mode=False)\n",
       "    (6): Conv2d(128, 256, kernel_size=(3, 3), stride=(1, 1), padding=(1, 1))\n",
       "    (7): ReLU(inplace=True)\n",
       "    (8): Conv2d(256, 256, kernel_size=(3, 3), stride=(1, 1), padding=(1, 1))\n",
       "    (9): ReLU(inplace=True)\n",
       "    (10): MaxPool2d(kernel_size=2, stride=2, padding=0, dilation=1, ceil_mode=False)\n",
       "    (11): Conv2d(256, 512, kernel_size=(3, 3), stride=(1, 1), padding=(1, 1))\n",
       "    (12): ReLU(inplace=True)\n",
       "    (13): Conv2d(512, 512, kernel_size=(3, 3), stride=(1, 1), padding=(1, 1))\n",
       "    (14): ReLU(inplace=True)\n",
       "    (15): MaxPool2d(kernel_size=2, stride=2, padding=0, dilation=1, ceil_mode=False)\n",
       "    (16): Conv2d(512, 512, kernel_size=(3, 3), stride=(1, 1), padding=(1, 1))\n",
       "    (17): ReLU(inplace=True)\n",
       "    (18): Conv2d(512, 512, kernel_size=(3, 3), stride=(1, 1), padding=(1, 1))\n",
       "    (19): ReLU(inplace=True)\n",
       "    (20): MaxPool2d(kernel_size=2, stride=2, padding=0, dilation=1, ceil_mode=False)\n",
       "  )\n",
       "  (net_2): Sequential(\n",
       "    (0): Linear(in_features=25088, out_features=4096, bias=True)\n",
       "    (1): ReLU(inplace=True)\n",
       "    (2): Dropout(p=0.5, inplace=False)\n",
       "    (3): Linear(in_features=4096, out_features=4096, bias=True)\n",
       "    (4): ReLU(inplace=True)\n",
       "    (5): Dropout(p=0.5, inplace=False)\n",
       "    (6): Linear(in_features=4096, out_features=3, bias=True)\n",
       "  )\n",
       ")"
      ]
     },
     "execution_count": 65,
     "metadata": {},
     "output_type": "execute_result"
    }
   ],
   "source": [
    "# Application Study\n",
    "\n",
    "import torch as torch\n",
    "#from models.MVCNN import SVCNN, MVCNN\n",
    "from models.MVCNN_application import SVCNN, MVCNN\n",
    "\n",
    "path_to_stage1_models = r\"mvcnn_stage_1/\"\n",
    "load_model = \"model-00029.pth\"\n",
    "sv_model = SVCNN(cnn_name=\"vgg11\", name=\"mvcnn\")\n",
    "\n",
    "sv_model.load(path_to_stage1_models, modelfile=load_model)\n",
    "\n",
    "path_to_stage2_models = r\"mvcnn_stage_2/mvcnn/\"\n",
    "load_model2 = \"model-00026.pth\"\n",
    "\n",
    "model2 = torch.load(path_to_stage2_models+load_model2)\n",
    "\n",
    "mv_model = MVCNN(name = \"mvcnn\", model = sv_model, nclasses=3, cnn_name=\"vgg11\")  # create an instance of the model\n",
    "mv_model.load(r\"mvcnn_stage_2/\", modelfile=load_model2)\n",
    "\n",
    "mv_model.eval()\n",
    "\n"
   ]
  },
  {
   "cell_type": "code",
   "execution_count": null,
   "id": "a91e7f19",
   "metadata": {},
   "outputs": [],
   "source": []
  },
  {
   "cell_type": "code",
   "execution_count": 69,
   "id": "a6476da0",
   "metadata": {},
   "outputs": [],
   "source": [
    "\n",
    "\n",
    "from tools.ImgDataset_application import *\n",
    "\n",
    "val_path ='test_samples/fold'\n",
    "\n"
   ]
  },
  {
   "cell_type": "code",
   "execution_count": 70,
   "id": "69cef05a",
   "metadata": {
    "scrolled": true
   },
   "outputs": [
    {
     "name": "stdout",
     "output_type": "stream",
     "text": [
      "['test_samples/fold/Obj_16001_v01.png', 'test_samples/fold/Obj_16001_v02.png', 'test_samples/fold/Obj_16001_v03.png']\n",
      "1\n"
     ]
    }
   ],
   "source": [
    "filepaths = []\n",
    "\n",
    "num_views = 3\n",
    "\n",
    "all_files = sorted(glob.glob(val_path+'/'+'*.png'))\n",
    "print(all_files)\n",
    "stride = int(3/num_views)\n",
    "all_files = all_files[::stride]\n",
    "\n",
    "transform = transforms.Compose([\n",
    "                transforms.ToTensor(),\n",
    "                transforms.Normalize(mean=[0.485, 0.456, 0.406],\n",
    "                                     std=[0.229, 0.224, 0.225])\n",
    "            ])\n",
    "\n",
    "filepaths.extend(all_files[:3])\n",
    "\n",
    "\n",
    "print(int(len(filepaths)/num_views))"
   ]
  },
  {
   "cell_type": "code",
   "execution_count": 71,
   "id": "66fae4d3",
   "metadata": {},
   "outputs": [
    {
     "data": {
      "text/plain": [
       "'test_samples/fold/Obj_16001_v01.png'"
      ]
     },
     "execution_count": 71,
     "metadata": {},
     "output_type": "execute_result"
    }
   ],
   "source": [
    "filepaths[0]"
   ]
  },
  {
   "cell_type": "code",
   "execution_count": 72,
   "id": "5b302951",
   "metadata": {},
   "outputs": [
    {
     "name": "stdout",
     "output_type": "stream",
     "text": [
      "<class 'PIL.Image.Image'>\n",
      "<class 'list'>\n"
     ]
    },
    {
     "data": {
      "text/plain": [
       "[<PIL.Image.Image image mode=RGB size=232x231 at 0x7F65AD96DA30>,\n",
       " <PIL.Image.Image image mode=RGB size=232x231 at 0x7F65ADE3C910>,\n",
       " <PIL.Image.Image image mode=RGB size=232x231 at 0x7F65ADE3C940>]"
      ]
     },
     "execution_count": 72,
     "metadata": {},
     "output_type": "execute_result"
    }
   ],
   "source": [
    "# load images \n",
    "\n",
    "im_1 = Image.open(filepaths[0]).convert('RGB')\n",
    "print(type(im_1))\n",
    "im_2 = Image.open(filepaths[1]).convert('RGB')\n",
    "im_3 = Image.open(filepaths[2]).convert('RGB')\n",
    "\n",
    "\n",
    "import torchvision.transforms as T\n",
    "\n",
    "transformt = T.ToPILImage()\n",
    "\n",
    "imgs = []\n",
    "img_1 = transformt(transform(im_1))\n",
    "imgs.append(img_1)\n",
    "img_2 = transformt(transform(im_2))\n",
    "imgs.append(img_2)\n",
    "img_3 = transformt(transform(im_3))\n",
    "imgs.append(img_3)\n",
    "\n",
    "print(type(imgs))\n",
    "imgs\n"
   ]
  },
  {
   "cell_type": "code",
   "execution_count": 73,
   "id": "ccfba80b",
   "metadata": {},
   "outputs": [
    {
     "name": "stdout",
     "output_type": "stream",
     "text": [
      "<class 'torch.Tensor'>\n",
      "3\n",
      "torch.Size([3, 3, 231, 232])\n"
     ]
    },
    {
     "data": {
      "text/plain": [
       "tensor([[[0.7451, 0.7451, 0.7451,  ..., 0.7451, 0.7451, 0.7451],\n",
       "         [0.7451, 0.7451, 0.7451,  ..., 0.7451, 0.7451, 0.7451],\n",
       "         [0.7451, 0.7451, 0.7451,  ..., 0.7451, 0.7451, 0.7451],\n",
       "         ...,\n",
       "         [0.7451, 0.7451, 0.7451,  ..., 0.7451, 0.7451, 0.7451],\n",
       "         [0.7451, 0.7451, 0.7451,  ..., 0.7451, 0.7451, 0.7451],\n",
       "         [0.7451, 0.7451, 0.7451,  ..., 0.7451, 0.7451, 0.7451]],\n",
       "\n",
       "        [[0.4196, 0.4196, 0.4196,  ..., 0.6314, 0.6314, 0.6314],\n",
       "         [0.4196, 0.4196, 0.4196,  ..., 0.6314, 0.6314, 0.6314],\n",
       "         [0.4196, 0.4196, 0.4196,  ..., 0.6314, 0.6314, 0.6314],\n",
       "         ...,\n",
       "         [0.2039, 0.2039, 0.2039,  ..., 0.1765, 0.1765, 0.1765],\n",
       "         [0.2039, 0.2039, 0.2039,  ..., 0.1765, 0.1765, 0.1765],\n",
       "         [0.2039, 0.2039, 0.2039,  ..., 0.1765, 0.1765, 0.1765]],\n",
       "\n",
       "        [[0.7451, 0.7451, 0.7451,  ..., 0.7451, 0.7451, 0.7451],\n",
       "         [0.7451, 0.7451, 0.7451,  ..., 0.7451, 0.7451, 0.7451],\n",
       "         [0.7451, 0.7451, 0.7451,  ..., 0.7451, 0.7451, 0.7451],\n",
       "         ...,\n",
       "         [0.7451, 0.7451, 0.7451,  ..., 0.7451, 0.7451, 0.7451],\n",
       "         [0.7451, 0.7451, 0.7451,  ..., 0.7451, 0.7451, 0.7451],\n",
       "         [0.7451, 0.7451, 0.7451,  ..., 0.7451, 0.7451, 0.7451]]])"
      ]
     },
     "execution_count": 73,
     "metadata": {},
     "output_type": "execute_result"
    }
   ],
   "source": [
    "\n",
    "\n",
    "from torchvision import transforms as transforms\n",
    "\n",
    "\n",
    "\n",
    "transform=transforms.ToTensor()\n",
    "img_tensor_1 = transform(imgs[0])\n",
    "img_tensor_2 = transform(imgs[1])\n",
    "img_tensor_3 = transform(imgs[2])\n",
    "\n",
    "ims_stack = torch.stack([img_tensor_1, img_tensor_2, img_tensor_3], dim=1)\n",
    "\n",
    "print(type(ims_stack))\n",
    "print(len(ims_stack))\n",
    "print(ims_stack.size())\n",
    "ims_stack[2]"
   ]
  },
  {
   "cell_type": "code",
   "execution_count": 74,
   "id": "74c67373",
   "metadata": {
    "scrolled": true
   },
   "outputs": [
    {
     "name": "stdout",
     "output_type": "stream",
     "text": [
      "1\n"
     ]
    }
   ],
   "source": [
    "val_loader_mi = torch.utils.data.DataLoader(ims_stack.unsqueeze(dim=0), batch_size=1, shuffle=False, num_workers=0)\n",
    "print(len(val_loader_mi))"
   ]
  },
  {
   "cell_type": "code",
   "execution_count": 75,
   "id": "7b209e3d",
   "metadata": {},
   "outputs": [
    {
     "name": "stdout",
     "output_type": "stream",
     "text": [
      "0\n",
      "torch.Size([1, 3, 3, 231, 232])\n",
      "tensor([[-1.6668,  4.0951, -4.7458]])\n",
      "tensor([3.1347e-03, 9.9672e-01, 1.4422e-04])\n",
      "tensor([1])\n"
     ]
    }
   ],
   "source": [
    "from torch.autograd import Variable\n",
    "\n",
    "#data = val_loader_mi\n",
    "for i, data in (enumerate(val_loader_mi, 0)):\n",
    "    print(i)\n",
    "    print(data.size())\n",
    "    N,V,C,H,W = data.size()\n",
    "    in_data = Variable(data).view(-1,C,H,W)\n",
    "    #print(in_data)\n",
    "    with torch.inference_mode():\n",
    "        out_data = mv_model(in_data)\n",
    "        print(out_data)\n",
    "        pred_prob = torch.softmax(out_data.squeeze(), dim=0)\n",
    "        print(pred_prob)\n",
    "        pred = torch.max(out_data, 1)[1]\n",
    "        print(pred)"
   ]
  },
  {
   "cell_type": "code",
   "execution_count": null,
   "id": "c6fdf7b9",
   "metadata": {},
   "outputs": [],
   "source": []
  },
  {
   "cell_type": "code",
   "execution_count": null,
   "id": "c21475d1",
   "metadata": {},
   "outputs": [],
   "source": []
  },
  {
   "cell_type": "code",
   "execution_count": null,
   "id": "2d0d99e4",
   "metadata": {},
   "outputs": [],
   "source": []
  },
  {
   "cell_type": "code",
   "execution_count": null,
   "id": "221ab15c",
   "metadata": {},
   "outputs": [],
   "source": []
  },
  {
   "cell_type": "code",
   "execution_count": null,
   "id": "c5dc14e1",
   "metadata": {},
   "outputs": [],
   "source": []
  },
  {
   "cell_type": "code",
   "execution_count": 76,
   "id": "3012e53f",
   "metadata": {},
   "outputs": [
    {
     "name": "stdout",
     "output_type": "stream",
     "text": [
      "1\n"
     ]
    }
   ],
   "source": [
    "val_loader_si = torch.utils.data.DataLoader(img_tensor_3.unsqueeze(dim=0), batch_size=1, shuffle=False, num_workers=0)\n",
    "print(len(val_loader_si))"
   ]
  },
  {
   "cell_type": "code",
   "execution_count": 77,
   "id": "ac091b25",
   "metadata": {},
   "outputs": [
    {
     "name": "stdout",
     "output_type": "stream",
     "text": [
      "tensor([[ 0.2543,  1.0403, -2.7957]])\n",
      "tensor([0.3085, 0.6769, 0.0146])\n",
      "tensor([1])\n"
     ]
    }
   ],
   "source": [
    "from torch.autograd import Variable\n",
    "\n",
    "\n",
    "for i, datas in enumerate(val_loader_si, 0):\n",
    "    in_data = Variable(datas)\n",
    "    with torch.inference_mode():\n",
    "        out_datas = sv_model(in_data)\n",
    "        print(out_datas)\n",
    "        pred_probs = torch.softmax(out_datas.squeeze(), dim=0)\n",
    "        print(pred_probs)\n",
    "        preds = torch.max(out_datas, 1)[1]\n",
    "        print(preds)\n",
    "    \n",
    "    "
   ]
  },
  {
   "cell_type": "code",
   "execution_count": null,
   "id": "28cf351b",
   "metadata": {},
   "outputs": [],
   "source": []
  },
  {
   "cell_type": "code",
   "execution_count": null,
   "id": "5669e9e3",
   "metadata": {},
   "outputs": [],
   "source": []
  },
  {
   "cell_type": "code",
   "execution_count": null,
   "id": "8f5742f8",
   "metadata": {},
   "outputs": [],
   "source": []
  },
  {
   "cell_type": "code",
   "execution_count": null,
   "id": "9fe96788",
   "metadata": {},
   "outputs": [],
   "source": []
  },
  {
   "cell_type": "code",
   "execution_count": null,
   "id": "62ee86c8",
   "metadata": {},
   "outputs": [],
   "source": []
  },
  {
   "cell_type": "code",
   "execution_count": null,
   "id": "ee8bfd06",
   "metadata": {
    "scrolled": true
   },
   "outputs": [],
   "source": []
  },
  {
   "cell_type": "code",
   "execution_count": null,
   "id": "7f0c1dbd",
   "metadata": {},
   "outputs": [],
   "source": []
  }
 ],
 "metadata": {
  "kernelspec": {
   "display_name": "Python 3 (ipykernel)",
   "language": "python",
   "name": "python3"
  },
  "language_info": {
   "codemirror_mode": {
    "name": "ipython",
    "version": 3
   },
   "file_extension": ".py",
   "mimetype": "text/x-python",
   "name": "python",
   "nbconvert_exporter": "python",
   "pygments_lexer": "ipython3",
   "version": "3.9.7"
  }
 },
 "nbformat": 4,
 "nbformat_minor": 5
}
